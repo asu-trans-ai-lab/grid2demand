{
  "nbformat": 4,
  "nbformat_minor": 0,
  "metadata": {
    "colab": {
      "private_outputs": true,
      "provenance": [],
      "authorship_tag": "ABX9TyM8NZXb5Quy+nELyLzQoyrx",
      "include_colab_link": true
    },
    "kernelspec": {
      "name": "python3",
      "display_name": "Python 3"
    },
    "language_info": {
      "name": "python"
    }
  },
  "cells": [
    {
      "cell_type": "markdown",
      "metadata": {
        "id": "view-in-github",
        "colab_type": "text"
      },
      "source": [
        "<a href=\"https://colab.research.google.com/github/xyluo25/grid2demand/blob/main/tutorial/Colab%20SF_Example.ipynb\" target=\"_parent\"><img src=\"https://colab.research.google.com/assets/colab-badge.svg\" alt=\"Open In Colab\"/></a>"
      ]
    },
    {
      "cell_type": "code",
      "execution_count": null,
      "metadata": {
        "id": "OPADIfxqihVk"
      },
      "outputs": [],
      "source": [
        "!pip install pandas\n",
        "!pip install grid2demand==0.5.9\n",
        "\n",
        "!git clone https://github.com/xyluo25/grid2demand"
      ]
    },
    {
      "cell_type": "code",
      "source": [
        "!ls"
      ],
      "metadata": {
        "id": "V1yrvdPHkREJ"
      },
      "execution_count": null,
      "outputs": []
    },
    {
      "cell_type": "code",
      "source": [
        "import grid2demand as gd\n",
        "\n",
        "if __name__ == \"__main__\":\n",
        "\n",
        "    # Step 0: Specify input directory\n",
        "    input_dir = r\"grid2demand\\datasets\\demand_from_TAZ\\SF\"\n",
        "\n",
        "    # Initialize a GRID2DEMAND object\n",
        "    net = gd.GRID2DEMAND(input_dir=input_dir, verbose=False)\n",
        "\n",
        "    # Step 1: Load node and poi data from input directory\n",
        "    net.load_network()\n",
        "\n",
        "    # Step 2: Generate zone dictionary from zone.csv file\n",
        "    net.taz2zone()\n",
        "\n",
        "    # Step 3: Run gravity model to generate agent-based demand\n",
        "    net.run_gravity_model()\n",
        "\n",
        "    # Step 4: Output demand, agent, zone, zone_od_dist_table, zone_od_dist_matrix files\n",
        "    net.save_results_to_csv(node=True, poi=False, zone=False)\n"
      ],
      "metadata": {
        "id": "Z_zwyukEiuIq"
      },
      "execution_count": null,
      "outputs": []
    }
  ]
}